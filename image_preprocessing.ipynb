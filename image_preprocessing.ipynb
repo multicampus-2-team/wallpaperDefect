{
 "cells": [
  {
   "cell_type": "code",
   "execution_count": 1,
   "metadata": {},
   "outputs": [],
   "source": [
    "import os\n",
    "import cv2 as cv\n",
    "import numpy as np \n",
    "import pandas as pd\n",
    "\n",
    "from sklearn.model_selection import train_test_split\n",
    "\n",
    "from tensorflow.keras.models import Sequential , load_model\n",
    "from tensorflow.keras.layers import Dense, Input, Conv2D, MaxPooling2D, Flatten"
   ]
  },
  {
   "cell_type": "code",
   "execution_count": null,
   "metadata": {},
   "outputs": [],
   "source": [
    "###################################################### 실행 안함. 자동완성용\n",
    "\n",
    "from keras.models import Sequential, load_model\n",
    "from keras.layers import Dense, Input, Conv2D, MaxPooling2D, Flatten\n",
    "######################################################"
   ]
  },
  {
   "cell_type": "code",
   "execution_count": 63,
   "metadata": {},
   "outputs": [],
   "source": [
    "\n",
    "# 폴더 리스트 생성\n",
    "folder_list = os.listdir('/Users/jsp/Desktop/workspace/projects/fstteamproject/main/git_teamprj/proj1/open/train')\n",
    "folder_list.remove('.DS_Store')\n",
    "\n",
    "# 데이터를 저장할 2차원 배열 생성\n",
    "data = []\n",
    "count = []\n",
    "\n",
    "# 폴더 리스트를 순회하며\n",
    "for folder_name in folder_list:\n",
    "    folder_path = '/Users/jsp/Desktop/workspace/projects/fstteamproject/main/git_teamprj/proj1/open/train/' + folder_name\n",
    "    #print(folder_path)\n",
    "    # 폴더 내 이미지 리스트 생성\n",
    "    image_list = os.listdir(folder_path)\n",
    "    list_len = len(image_list)\n",
    "    count.append(list_len)\n",
    "    # 해당 폴더 내 이미지 리스트를 순회하며\n",
    "    for image_name in image_list:\n",
    "        image_path = folder_path +'/' + image_name\n",
    "        \n",
    "        # 이미지 로드 및 그레이스케일 적용\n",
    "        img = cv.imread(image_path)\n",
    "        gray = cv.cvtColor(img, cv.COLOR_BGR2GRAY)\n",
    "        \n",
    "        # 생성한 데이터 배열에 이미지 추가\n",
    "        data.append(gray)\n",
    "        \n",
    "        \n",
    "# 데이터 배열 확인\n",
    "#print(np.array(data).shape)\n"
   ]
  },
  {
   "cell_type": "code",
   "execution_count": 2,
   "metadata": {},
   "outputs": [],
   "source": [
    "\n",
    "folder_list = os.listdir('/Users/jsp/Desktop/workspace/projects/fstteamproject/main/git_teamprj/proj1/open/train')\n",
    "folder_list.remove('.DS_Store') \n",
    "\n",
    "data = []\n",
    "pic_count = []\n",
    "\n",
    "for folder_name in folder_list:\n",
    "    folder_path = '/Users/jsp/Desktop/workspace/projects/fstteamproject/main/git_teamprj/proj1/open/train/' + folder_name\n",
    "  \n",
    "    image_list = os.listdir(folder_path)\n",
    "    list_len = len(image_list)\n",
    "    pic_count.append(list_len)\n",
    "    \n",
    "    for image_name in image_list:\n",
    "        image_path = folder_path +'/' + image_name\n",
    "        img = cv.imread(image_path)\n",
    "        resize = cv.resize(img, (300,300), interpolation=cv.INTER_CUBIC)\n",
    "        gray = cv.cvtColor(resize, cv.COLOR_BGR2GRAY)\n",
    "        data.append(gray)"
   ]
  },
  {
   "cell_type": "code",
   "execution_count": 3,
   "metadata": {},
   "outputs": [],
   "source": [
    "answer = []\n",
    "for idx, nm in enumerate(folder_list):\n",
    "        answer += [nm] * pic_count[idx]\n",
    "answer = np.array(answer)"
   ]
  },
  {
   "cell_type": "code",
   "execution_count": 5,
   "metadata": {},
   "outputs": [],
   "source": [
    "answer = pd.get_dummies(answer)"
   ]
  },
  {
   "cell_type": "code",
   "execution_count": 6,
   "metadata": {},
   "outputs": [],
   "source": [
    "answer = answer.values"
   ]
  },
  {
   "cell_type": "code",
   "execution_count": 7,
   "metadata": {},
   "outputs": [
    {
     "data": {
      "text/plain": [
       "array([[False, False, False, ..., False, False, False],\n",
       "       [False, False, False, ..., False, False, False],\n",
       "       [False, False, False, ..., False, False, False],\n",
       "       ...,\n",
       "       [False, False, False, ...,  True, False, False],\n",
       "       [False, False, False, ...,  True, False, False],\n",
       "       [False, False, False, ...,  True, False, False]])"
      ]
     },
     "execution_count": 7,
     "metadata": {},
     "output_type": "execute_result"
    }
   ],
   "source": [
    "answer"
   ]
  },
  {
   "cell_type": "code",
   "execution_count": 8,
   "metadata": {},
   "outputs": [],
   "source": [
    "xtrain, xtest, ytrain, ytest = train_test_split(np.array(data),answer,test_size=0.3, shuffle=True)"
   ]
  },
  {
   "cell_type": "code",
   "execution_count": 9,
   "metadata": {},
   "outputs": [
    {
     "name": "stdout",
     "output_type": "stream",
     "text": [
      "(2419, 300, 300)\n",
      "(1038, 300, 300)\n"
     ]
    }
   ],
   "source": [
    "print(xtrain.shape)\n",
    "print(xtest.shape)"
   ]
  },
  {
   "cell_type": "code",
   "execution_count": 10,
   "metadata": {},
   "outputs": [],
   "source": [
    "xtrain = xtrain.reshape(2419,300,300,1) \n",
    "xtest = xtest.reshape(1038,300,300,1)"
   ]
  },
  {
   "cell_type": "code",
   "execution_count": 11,
   "metadata": {},
   "outputs": [
    {
     "name": "stdout",
     "output_type": "stream",
     "text": [
      "Metal device set to: Apple M1 Pro\n",
      "\n",
      "systemMemory: 16.00 GB\n",
      "maxCacheSize: 5.33 GB\n",
      "\n",
      "Model: \"sequential\"\n",
      "_________________________________________________________________\n",
      " Layer (type)                Output Shape              Param #   \n",
      "=================================================================\n",
      " cov_layer1 (Conv2D)         (None, 298, 298, 32)      320       \n",
      "                                                                 \n",
      " max_pooling2d (MaxPooling2D  (None, 149, 149, 32)     0         \n",
      " )                                                               \n",
      "                                                                 \n",
      " flatten (Flatten)           (None, 710432)            0         \n",
      "                                                                 \n",
      " dense (Dense)               (None, 32)                22733856  \n",
      "                                                                 \n",
      " dense_1 (Dense)             (None, 19)                627       \n",
      "                                                                 \n",
      "=================================================================\n",
      "Total params: 22,734,803\n",
      "Trainable params: 22,734,803\n",
      "Non-trainable params: 0\n",
      "_________________________________________________________________\n"
     ]
    }
   ],
   "source": [
    "model = Sequential([\n",
    "            Input(shape = (300,300,1), name = 'input_layer'),\n",
    "            Conv2D(32,kernel_size=3, activation= 'relu', name = 'cov_layer1' ),\n",
    "            #Dropout(0.5) 데이터 기반한 weight를 줄여 오버핏팅을 줄이는 것\n",
    "            MaxPooling2D(pool_size= 2), \n",
    "            Flatten()\n",
    "            ])\n",
    "\n",
    "model.add(Dense(32, activation= 'relu'))\n",
    "model.add(Dense(19, activation= 'softmax'))\n",
    "\n",
    "model.summary()"
   ]
  },
  {
   "cell_type": "code",
   "execution_count": 12,
   "metadata": {},
   "outputs": [
    {
     "name": "stdout",
     "output_type": "stream",
     "text": [
      "Epoch 1/10\n"
     ]
    },
    {
     "name": "stderr",
     "output_type": "stream",
     "text": [
      "2023-05-06 22:02:40.261464: W tensorflow/tsl/platform/profile_utils/cpu_utils.cc:128] Failed to get CPU frequency: 0 Hz\n"
     ]
    },
    {
     "name": "stdout",
     "output_type": "stream",
     "text": [
      "25/25 [==============================] - 8s 254ms/step - loss: 3697.6536 - accuracy: 0.1616 - val_loss: 2.9466 - val_accuracy: 0.0645\n",
      "Epoch 2/10\n",
      "25/25 [==============================] - 7s 260ms/step - loss: 61.6595 - accuracy: 0.0542 - val_loss: 2.9282 - val_accuracy: 0.0645\n",
      "Epoch 3/10\n",
      "25/25 [==============================] - 6s 228ms/step - loss: 2.9200 - accuracy: 0.2906 - val_loss: 2.9081 - val_accuracy: 0.4143\n",
      "Epoch 4/10\n",
      "25/25 [==============================] - 6s 226ms/step - loss: 2.9008 - accuracy: 0.4031 - val_loss: 2.8883 - val_accuracy: 0.4143\n",
      "Epoch 5/10\n",
      "25/25 [==============================] - 6s 227ms/step - loss: 2.8819 - accuracy: 0.4031 - val_loss: 2.8682 - val_accuracy: 0.4143\n",
      "Epoch 6/10\n",
      "25/25 [==============================] - 6s 227ms/step - loss: 2.8628 - accuracy: 0.4031 - val_loss: 2.8482 - val_accuracy: 0.4143\n",
      "Epoch 7/10\n",
      "25/25 [==============================] - 6s 228ms/step - loss: 2.8438 - accuracy: 0.4031 - val_loss: 2.8285 - val_accuracy: 0.4143\n",
      "Epoch 8/10\n",
      "25/25 [==============================] - 6s 230ms/step - loss: 2.8252 - accuracy: 0.4031 - val_loss: 2.8089 - val_accuracy: 0.4143\n",
      "Epoch 9/10\n",
      "25/25 [==============================] - 6s 229ms/step - loss: 2.8066 - accuracy: 0.4031 - val_loss: 2.7895 - val_accuracy: 0.4143\n",
      "Epoch 10/10\n",
      "25/25 [==============================] - 6s 229ms/step - loss: 2.7881 - accuracy: 0.4031 - val_loss: 2.7703 - val_accuracy: 0.4143\n"
     ]
    }
   ],
   "source": [
    "model.compile(optimizer= 'adam', loss='categorical_crossentropy',metrics=['accuracy'])\n",
    "history = model.fit(xtrain,ytrain, validation_data=(xtest, ytest), batch_size=100, epochs = 10)"
   ]
  },
  {
   "cell_type": "code",
   "execution_count": 13,
   "metadata": {},
   "outputs": [],
   "source": [
    "model.save('wall_model_ver1.hdf5')"
   ]
  },
  {
   "cell_type": "code",
   "execution_count": null,
   "metadata": {},
   "outputs": [],
   "source": []
  },
  {
   "cell_type": "code",
   "execution_count": 1,
   "metadata": {},
   "outputs": [
    {
     "name": "stdout",
     "output_type": "stream",
     "text": [
      "Python Platform: macOS-13.3.1-arm64-arm-64bit\n",
      "Tensor Flow Version: 2.12.0\n",
      "Keras Version: 2.12.0\n",
      "\n",
      "Python 3.10.10 | packaged by conda-forge | (main, Mar 24 2023, 20:12:31) [Clang 14.0.6 ]\n",
      "Pandas 2.0.1\n",
      "Scikit-Learn 1.2.2\n",
      "GPU is available\n"
     ]
    }
   ],
   "source": [
    "# What version of Python do you have?\n",
    "import sys\n",
    "\n",
    "import tensorflow.keras\n",
    "import pandas as pd\n",
    "import sklearn as sk\n",
    "import tensorflow as tf\n",
    "import platform\n",
    "\n",
    "print(f\"Python Platform: {platform.platform()}\")\n",
    "print(f\"Tensor Flow Version: {tf.__version__}\")\n",
    "print(f\"Keras Version: {tensorflow.keras.__version__}\")\n",
    "print()\n",
    "print(f\"Python {sys.version}\")\n",
    "print(f\"Pandas {pd.__version__}\")\n",
    "print(f\"Scikit-Learn {sk.__version__}\")\n",
    "gpu = len(tf.config.list_physical_devices('GPU'))>0\n",
    "print(\"GPU is\", \"available\" if gpu else \"NOT AVAILABLE\")"
   ]
  },
  {
   "cell_type": "code",
   "execution_count": 2,
   "metadata": {},
   "outputs": [
    {
     "name": "stdout",
     "output_type": "stream",
     "text": [
      "Python Platform: macOS-13.3.1-arm64-arm-64bit\n",
      "PyTorch Version: 2.0.0\n",
      "\n",
      "Python 3.10.10 | packaged by conda-forge | (main, Mar 24 2023, 20:12:31) [Clang 14.0.6 ]\n",
      "Pandas 2.0.1\n",
      "Scikit-Learn 1.2.2\n",
      "GPU is NOT AVAILABLE\n",
      "MPS (Apple Metal) is AVAILABLE\n",
      "Target device is mps\n"
     ]
    }
   ],
   "source": [
    "# What version of Python do you have?\n",
    "import sys\n",
    "import platform\n",
    "import torch\n",
    "import pandas as pd\n",
    "import sklearn as sk\n",
    "\n",
    "has_gpu = torch.cuda.is_available()\n",
    "has_mps = getattr(torch,'has_mps',False)\n",
    "device = \"mps\" if getattr(torch,'has_mps',False) \\\n",
    "    else \"gpu\" if torch.cuda.is_available() else \"cpu\"\n",
    "\n",
    "print(f\"Python Platform: {platform.platform()}\")\n",
    "print(f\"PyTorch Version: {torch.__version__}\")\n",
    "print()\n",
    "print(f\"Python {sys.version}\")\n",
    "print(f\"Pandas {pd.__version__}\")\n",
    "print(f\"Scikit-Learn {sk.__version__}\")\n",
    "print(\"GPU is\", \"available\" if has_gpu else \"NOT AVAILABLE\")\n",
    "print(\"MPS (Apple Metal) is\", \"AVAILABLE\" if has_mps else \"NOT AVAILABLE\")\n",
    "print(f\"Target device is {device}\")"
   ]
  },
  {
   "cell_type": "code",
   "execution_count": null,
   "metadata": {},
   "outputs": [],
   "source": []
  },
  {
   "cell_type": "code",
   "execution_count": null,
   "metadata": {},
   "outputs": [],
   "source": []
  },
  {
   "cell_type": "code",
   "execution_count": null,
   "metadata": {},
   "outputs": [],
   "source": [
    "def predict_image_sample_(model, X_test, y_test, test_id=-1):\n",
    "    if test_id < 0:\n",
    "        from random import randrange\n",
    "        test_sample_id = randrange(10000)\n",
    "    else:\n",
    "        test_sample_id = test_id\n",
    "        \n",
    "    test_image = X_test[test_sample_id]\n",
    "    \n",
    "    #plt.imshow(test_image, cmap='gray')\n",
    "    \n",
    "    test_image = test_image.reshape(1,28,28,1)\n",
    "\n",
    "    y_actual = y_test[test_sample_id]\n",
    "    print(\"y_actual number=\", y_actual)\n",
    "    \n",
    "    y_pred = model.predict(test_image)\n",
    "    #print(\"y_pred=\", y_pred)\n",
    "    y_pred_num = np.argmax(y_pred, axis=1)[0]\n",
    "    print(\"y_pred number=\", y_pred_num)\n",
    "    \n",
    "    return y_actual, y_pred_num"
   ]
  },
  {
   "cell_type": "code",
   "execution_count": null,
   "metadata": {},
   "outputs": [],
   "source": [
    "all, n = 0,0\n",
    "(X_train, y_train), (X_test, y_test) = mnist.load_data()\n",
    "\n",
    "for i in range(500):\n",
    "    all +=1\n",
    "    y_actual, y_pred_num = predict_image_sample_(model, X_test, y_test, test_id= i)\n",
    "    if y_actual == y_pred_num:\n",
    "        n += 1 \n",
    "    else : pass\n",
    "print(f'총횟수 = {all} , 맞춘횟수={n} , 정확도(Accuracy)={(n/all)*100}')"
   ]
  },
  {
   "cell_type": "code",
   "execution_count": null,
   "metadata": {},
   "outputs": [],
   "source": []
  },
  {
   "cell_type": "code",
   "execution_count": null,
   "metadata": {},
   "outputs": [],
   "source": []
  },
  {
   "cell_type": "code",
   "execution_count": null,
   "metadata": {},
   "outputs": [],
   "source": []
  }
 ],
 "metadata": {
  "kernelspec": {
   "display_name": "DL_package_venv",
   "language": "python",
   "name": "python3"
  },
  "language_info": {
   "codemirror_mode": {
    "name": "ipython",
    "version": 3
   },
   "file_extension": ".py",
   "mimetype": "text/x-python",
   "name": "python",
   "nbconvert_exporter": "python",
   "pygments_lexer": "ipython3",
   "version": "3.10.10"
  },
  "orig_nbformat": 4
 },
 "nbformat": 4,
 "nbformat_minor": 2
}
