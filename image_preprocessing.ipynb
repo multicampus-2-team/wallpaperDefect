{
 "cells": [
  {
   "cell_type": "code",
   "execution_count": 5,
   "metadata": {},
   "outputs": [],
   "source": [
    "import os\n",
    "import cv2 as cv\n",
    "import numpy as np \n",
    "import pandas as pd\n",
    "\n",
    "from sklearn.model_selection import train_test_split\n",
    "\n",
    "from tensorflow.keras.models import Sequential , load_model\n",
    "from tensorflow.keras.layers import Dense, Input, Conv2D, MaxPooling2D, Flatten\n",
    "from tensorflow.keras.callbacks import ModelCheckpoint, EarlyStopping"
   ]
  },
  {
   "cell_type": "code",
   "execution_count": null,
   "metadata": {},
   "outputs": [],
   "source": [
    "###################################################### 실행 안함. 자동완성용\n",
    "\n",
    "from keras.models import Sequential, load_model\n",
    "from keras.layers import Dense, Input, Conv2D, MaxPooling2D, Flatten\n",
    "from keras.callbacks import ModelCheckpoint, EarlyStopping\n",
    "######################################################"
   ]
  },
  {
   "cell_type": "code",
   "execution_count": 6,
   "metadata": {},
   "outputs": [],
   "source": [
    "\n",
    "folder_list = os.listdir('/Users/jsp/Desktop/workspace/projects/fstteamproject/main/git_teamprj/proj1/open/train')\n",
    "folder_list.remove('.DS_Store') \n",
    "\n",
    "data = []\n",
    "pic_count = []\n",
    "\n",
    "for folder_name in folder_list:\n",
    "    folder_path = '/Users/jsp/Desktop/workspace/projects/fstteamproject/main/git_teamprj/proj1/open/train/' + folder_name\n",
    "  \n",
    "    image_list = os.listdir(folder_path)\n",
    "    list_len = len(image_list)\n",
    "    pic_count.append(list_len)\n",
    "    \n",
    "    for image_name in image_list:\n",
    "        image_path = folder_path +'/' + image_name\n",
    "        img = cv.imread(image_path)\n",
    "        resize = cv.resize(img, (300,300), interpolation=cv.INTER_CUBIC)\n",
    "        gray = cv.cvtColor(resize, cv.COLOR_BGR2GRAY)\n",
    "        data.append(gray)"
   ]
  },
  {
   "cell_type": "code",
   "execution_count": 7,
   "metadata": {},
   "outputs": [],
   "source": [
    "answer = []\n",
    "for idx, nm in enumerate(folder_list):\n",
    "        answer += [nm] * pic_count[idx]\n",
    "answer = np.array(answer)\n",
    "answer = pd.get_dummies(answer)\n",
    "answer = answer.values"
   ]
  },
  {
   "cell_type": "code",
   "execution_count": 8,
   "metadata": {},
   "outputs": [
    {
     "data": {
      "text/plain": [
       "array([[False, False, False, ..., False, False, False],\n",
       "       [False, False, False, ..., False, False, False],\n",
       "       [False, False, False, ..., False, False, False],\n",
       "       ...,\n",
       "       [False, False, False, ...,  True, False, False],\n",
       "       [False, False, False, ...,  True, False, False],\n",
       "       [False, False, False, ...,  True, False, False]])"
      ]
     },
     "execution_count": 8,
     "metadata": {},
     "output_type": "execute_result"
    }
   ],
   "source": [
    "answer\n"
   ]
  },
  {
   "cell_type": "code",
   "execution_count": 9,
   "metadata": {},
   "outputs": [],
   "source": [
    "xtrain, xtest, ytrain, ytest = train_test_split(np.array(data),answer,test_size=0.2, shuffle=True)"
   ]
  },
  {
   "cell_type": "code",
   "execution_count": 10,
   "metadata": {},
   "outputs": [
    {
     "name": "stdout",
     "output_type": "stream",
     "text": [
      "(2765, 300, 300)\n",
      "(692, 300, 300)\n"
     ]
    }
   ],
   "source": [
    "print(xtrain.shape)\n",
    "print(xtest.shape)"
   ]
  },
  {
   "cell_type": "code",
   "execution_count": 12,
   "metadata": {},
   "outputs": [],
   "source": [
    "xtrain = xtrain.reshape(2765,300,300,1) \n",
    "xtest = xtest.reshape(692,300,300,1)"
   ]
  },
  {
   "cell_type": "code",
   "execution_count": 13,
   "metadata": {},
   "outputs": [
    {
     "name": "stdout",
     "output_type": "stream",
     "text": [
      "Metal device set to: Apple M1 Pro\n",
      "\n",
      "systemMemory: 16.00 GB\n",
      "maxCacheSize: 5.33 GB\n",
      "\n",
      "Model: \"sequential\"\n",
      "_________________________________________________________________\n",
      " Layer (type)                Output Shape              Param #   \n",
      "=================================================================\n",
      " cov_layer1 (Conv2D)         (None, 298, 298, 32)      320       \n",
      "                                                                 \n",
      " max_pooling2d (MaxPooling2D  (None, 149, 149, 32)     0         \n",
      " )                                                               \n",
      "                                                                 \n",
      " flatten (Flatten)           (None, 710432)            0         \n",
      "                                                                 \n",
      " dense (Dense)               (None, 32)                22733856  \n",
      "                                                                 \n",
      " dense_1 (Dense)             (None, 24)                792       \n",
      "                                                                 \n",
      " dense_2 (Dense)             (None, 19)                475       \n",
      "                                                                 \n",
      "=================================================================\n",
      "Total params: 22,735,443\n",
      "Trainable params: 22,735,443\n",
      "Non-trainable params: 0\n",
      "_________________________________________________________________\n"
     ]
    }
   ],
   "source": [
    "model = Sequential([\n",
    "            Input(shape = (300,300,1), name = 'input_layer'),\n",
    "            Conv2D(32,kernel_size=3, activation= 'relu', name = 'cov_layer1' ),\n",
    "            #Dropout(0.5) 데이터 기반한 weight를 줄여 오버핏팅을 줄이는 것\n",
    "            MaxPooling2D(pool_size= 2), \n",
    "            Flatten()\n",
    "            ])\n",
    "\n",
    "model.add(Dense(32, activation= 'relu'))\n",
    "model.add(Dense(24, activation= 'relu'))\n",
    "model.add(Dense(19, activation= 'softmax'))\n",
    "\n",
    "model.summary()\n",
    "model.compile(optimizer= 'adam', loss='categorical_crossentropy',metrics=['accuracy'])"
   ]
  },
  {
   "cell_type": "code",
   "execution_count": 14,
   "metadata": {},
   "outputs": [],
   "source": [
    "early_stopping_callback = EarlyStopping(monitor='val_loss', patience=20)\n",
    "modelpath=\"bestmodel.hdf5\"\n",
    "checkpointer = ModelCheckpoint(filepath=modelpath, monitor='val_loss', verbose=0, save_best_only=True)"
   ]
  },
  {
   "cell_type": "code",
   "execution_count": 15,
   "metadata": {},
   "outputs": [
    {
     "name": "stdout",
     "output_type": "stream",
     "text": [
      "Epoch 1/500\n"
     ]
    },
    {
     "name": "stderr",
     "output_type": "stream",
     "text": [
      "2023-05-08 15:03:14.693855: W tensorflow/tsl/platform/profile_utils/cpu_utils.cc:128] Failed to get CPU frequency: 0 Hz\n"
     ]
    },
    {
     "name": "stdout",
     "output_type": "stream",
     "text": [
      "56/56 [==============================] - 9s 143ms/step - loss: 539.1890 - accuracy: 0.1834 - val_loss: 3.9950 - val_accuracy: 0.3382\n",
      "Epoch 2/500\n",
      "56/56 [==============================] - 7s 132ms/step - loss: 3.1139 - accuracy: 0.3186 - val_loss: 3.1232 - val_accuracy: 0.3194\n",
      "Epoch 3/500\n",
      "56/56 [==============================] - 7s 127ms/step - loss: 2.5872 - accuracy: 0.5089 - val_loss: 3.0383 - val_accuracy: 0.4162\n",
      "Epoch 4/500\n",
      "56/56 [==============================] - 7s 120ms/step - loss: 2.0587 - accuracy: 0.5870 - val_loss: 2.9381 - val_accuracy: 0.4104\n",
      "Epoch 5/500\n",
      "56/56 [==============================] - 7s 125ms/step - loss: 1.7335 - accuracy: 0.6152 - val_loss: 3.0389 - val_accuracy: 0.4133\n",
      "Epoch 6/500\n",
      "56/56 [==============================] - 7s 123ms/step - loss: 1.5809 - accuracy: 0.6470 - val_loss: 3.1035 - val_accuracy: 0.4133\n",
      "Epoch 7/500\n",
      "56/56 [==============================] - 7s 118ms/step - loss: 1.4126 - accuracy: 0.6669 - val_loss: 3.1645 - val_accuracy: 0.4191\n",
      "Epoch 8/500\n",
      "56/56 [==============================] - 7s 117ms/step - loss: 1.2137 - accuracy: 0.6937 - val_loss: 3.2822 - val_accuracy: 0.4147\n",
      "Epoch 9/500\n",
      "56/56 [==============================] - 7s 116ms/step - loss: 1.0623 - accuracy: 0.7461 - val_loss: 3.2672 - val_accuracy: 0.4147\n",
      "Epoch 10/500\n",
      "56/56 [==============================] - 7s 117ms/step - loss: 1.0989 - accuracy: 0.7360 - val_loss: 3.1379 - val_accuracy: 0.4234\n",
      "Epoch 11/500\n",
      "56/56 [==============================] - 7s 117ms/step - loss: 0.9800 - accuracy: 0.7537 - val_loss: 3.7622 - val_accuracy: 0.4249\n",
      "Epoch 12/500\n",
      "56/56 [==============================] - 7s 117ms/step - loss: 0.9240 - accuracy: 0.7797 - val_loss: 3.5889 - val_accuracy: 0.3974\n",
      "Epoch 13/500\n",
      "56/56 [==============================] - 7s 117ms/step - loss: 0.7165 - accuracy: 0.8047 - val_loss: 4.1336 - val_accuracy: 0.4263\n",
      "Epoch 14/500\n",
      "56/56 [==============================] - 7s 117ms/step - loss: 0.6900 - accuracy: 0.8297 - val_loss: 4.5074 - val_accuracy: 0.4147\n",
      "Epoch 15/500\n",
      "56/56 [==============================] - 7s 117ms/step - loss: 0.6143 - accuracy: 0.8405 - val_loss: 3.9876 - val_accuracy: 0.4032\n",
      "Epoch 16/500\n",
      "56/56 [==============================] - 7s 118ms/step - loss: 0.5458 - accuracy: 0.8510 - val_loss: 4.5815 - val_accuracy: 0.4162\n",
      "Epoch 17/500\n",
      "56/56 [==============================] - 7s 117ms/step - loss: 0.5760 - accuracy: 0.8622 - val_loss: 4.3021 - val_accuracy: 0.4176\n",
      "Epoch 18/500\n",
      "56/56 [==============================] - 7s 117ms/step - loss: 0.5858 - accuracy: 0.8401 - val_loss: 4.6200 - val_accuracy: 0.4335\n",
      "Epoch 19/500\n",
      "56/56 [==============================] - 7s 117ms/step - loss: 0.5012 - accuracy: 0.8738 - val_loss: 5.0721 - val_accuracy: 0.4191\n",
      "Epoch 20/500\n",
      "56/56 [==============================] - 7s 118ms/step - loss: 0.4486 - accuracy: 0.8828 - val_loss: 5.7099 - val_accuracy: 0.4147\n",
      "Epoch 21/500\n",
      "56/56 [==============================] - 7s 122ms/step - loss: 0.4574 - accuracy: 0.8875 - val_loss: 4.4208 - val_accuracy: 0.3887\n",
      "Epoch 22/500\n",
      "56/56 [==============================] - 7s 117ms/step - loss: 0.4566 - accuracy: 0.8835 - val_loss: 5.6686 - val_accuracy: 0.4191\n",
      "Epoch 23/500\n",
      "56/56 [==============================] - 7s 119ms/step - loss: 0.4164 - accuracy: 0.8973 - val_loss: 5.4665 - val_accuracy: 0.4104\n",
      "Epoch 24/500\n",
      "56/56 [==============================] - 7s 118ms/step - loss: 0.3477 - accuracy: 0.9052 - val_loss: 5.4419 - val_accuracy: 0.4032\n"
     ]
    }
   ],
   "source": [
    "\n",
    "history = model.fit(xtrain,ytrain, validation_data=(xtest, ytest), batch_size=50, epochs = 500, verbose=1, callbacks=[early_stopping_callback,checkpointer])"
   ]
  },
  {
   "cell_type": "code",
   "execution_count": 18,
   "metadata": {},
   "outputs": [],
   "source": [
    "my_model = load_model('bestmodel.hdf5')"
   ]
  },
  {
   "cell_type": "code",
   "execution_count": 19,
   "metadata": {},
   "outputs": [
    {
     "name": "stdout",
     "output_type": "stream",
     "text": [
      "22/22 [==============================] - 1s 39ms/step - loss: 2.9381 - accuracy: 0.4104\n",
      "Test accuracy: 0.41040462255477905\n"
     ]
    }
   ],
   "source": [
    "score = my_model.evaluate(xtest, ytest)\n",
    "print('Test accuracy:', score[1])"
   ]
  },
  {
   "cell_type": "code",
   "execution_count": null,
   "metadata": {},
   "outputs": [],
   "source": []
  }
 ],
 "metadata": {
  "kernelspec": {
   "display_name": "DL_package_venv",
   "language": "python",
   "name": "python3"
  },
  "language_info": {
   "codemirror_mode": {
    "name": "ipython",
    "version": 3
   },
   "file_extension": ".py",
   "mimetype": "text/x-python",
   "name": "python",
   "nbconvert_exporter": "python",
   "pygments_lexer": "ipython3",
   "version": "3.10.10"
  },
  "orig_nbformat": 4
 },
 "nbformat": 4,
 "nbformat_minor": 2
}
