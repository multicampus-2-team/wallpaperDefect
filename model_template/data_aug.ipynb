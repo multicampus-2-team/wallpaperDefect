{
 "cells": [
  {
   "cell_type": "code",
   "execution_count": 5,
   "metadata": {},
   "outputs": [],
   "source": [
    "# 물리적으로 데이터 증강하기\n",
    "import os\n",
    "import numpy as np \n",
    "import matplotlib.pyplot as plt\n",
    "import warnings\n",
    "warnings.filterwarnings('ignore')\n",
    "from tensorflow.keras.preprocessing.image import ImageDataGenerator"
   ]
  },
  {
   "cell_type": "code",
   "execution_count": 6,
   "metadata": {},
   "outputs": [],
   "source": [
    "## 함수\n",
    "datagen=ImageDataGenerator(\n",
    "    zoom_range = 0.3,     \n",
    "    width_shift_range=0.2, \n",
    "    height_shift_range=0.2\n",
    ")\n",
    "\n",
    "def auG(f_path, image_list, i, sub):\n",
    "    for f in image_list:\n",
    "            img_path = os.path.join(f_path, i, f)\n",
    "            image = np.expand_dims(plt.imread(img_path), 0)\n",
    "            c=0     \n",
    "            for _ in datagen.flow(image,\n",
    "                                    batch_size=1,\n",
    "                                    save_to_dir=os.path.join(f_path,i),\n",
    "                                    save_prefix=i,\n",
    "                                    save_format='png'):\n",
    "                c+=1\n",
    "                if c > augment_number-(sub):\n",
    "                    break\n",
    "\n",
    "## 전역\n",
    "f_path = '/Users/jsp/Desktop/workspace/CODE/딥러닝/딥러닝 연습문제/DL_day10_연습문제_pytorch_입문/train'\n",
    "f_list = os.listdir(f_path)\n",
    "#f_list.remove('.DS_Store')\n",
    "\n",
    "\n",
    "## 메인\n",
    "for i in f_list:\n",
    "    image_list=os.listdir(os.path.join(f_path,i)) \n",
    "    augment_number=10\n",
    "    \n",
    "    if len(image_list) > 600:\n",
    "        continue\n",
    "    elif 500 < len(image_list) < 600:\n",
    "        auG(f_path,image_list, i, 7)\n",
    "    elif 300 < len(image_list) < 400:\n",
    "        auG(f_path,image_list, i, 5)\n",
    "    elif 200 < len(image_list) < 300:\n",
    "        auG(f_path,image_list, i, 2)\n",
    "    elif 98 < len(image_list) < 200:\n",
    "        auG(f_path,image_list, i, 0)\n",
    "    elif 50 < len(image_list) < 60:\n",
    "        auG(f_path,image_list, i, -20)\n",
    "    elif 20 < len(image_list) < 30:\n",
    "        auG(f_path,image_list, i, -70)\n",
    "    elif 10< len(image_list) < 20:\n",
    "        auG(f_path,image_list, i, -90)\n",
    "    elif len(image_list) < 10:\n",
    "        auG(f_path,image_list, i, -440)"
   ]
  }
 ],
 "metadata": {
  "kernelspec": {
   "display_name": "DL_package_venv",
   "language": "python",
   "name": "python3"
  },
  "language_info": {
   "codemirror_mode": {
    "name": "ipython",
    "version": 3
   },
   "file_extension": ".py",
   "mimetype": "text/x-python",
   "name": "python",
   "nbconvert_exporter": "python",
   "pygments_lexer": "ipython3",
   "version": "3.10.10"
  },
  "orig_nbformat": 4
 },
 "nbformat": 4,
 "nbformat_minor": 2
}
